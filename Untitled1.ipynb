{
 "cells": [
  {
   "cell_type": "markdown",
   "id": "93a9bd22-ce70-4684-b9e9-16cd95bd48a6",
   "metadata": {},
   "source": [
    "Featues Engineering"
   ]
  },
  {
   "cell_type": "code",
   "execution_count": 9,
   "id": "f2ec801c-acbe-4027-9e37-469169a4ce7b",
   "metadata": {},
   "outputs": [],
   "source": [
    "import pandas as pd\n",
    "import numpy as np"
   ]
  },
  {
   "cell_type": "code",
   "execution_count": 10,
   "id": "a9cc5bdc-ff3a-4b7a-8d69-dc2f2625e48d",
   "metadata": {},
   "outputs": [],
   "source": [
    "df= pd.read_csv(\"client_data.csv\")"
   ]
  },
  {
   "cell_type": "code",
   "execution_count": 11,
   "id": "cdd94b93-8261-48cb-957f-566bcd944c50",
   "metadata": {},
   "outputs": [
    {
     "data": {
      "text/html": [
       "<div>\n",
       "<style scoped>\n",
       "    .dataframe tbody tr th:only-of-type {\n",
       "        vertical-align: middle;\n",
       "    }\n",
       "\n",
       "    .dataframe tbody tr th {\n",
       "        vertical-align: top;\n",
       "    }\n",
       "\n",
       "    .dataframe thead th {\n",
       "        text-align: right;\n",
       "    }\n",
       "</style>\n",
       "<table border=\"1\" class=\"dataframe\">\n",
       "  <thead>\n",
       "    <tr style=\"text-align: right;\">\n",
       "      <th></th>\n",
       "      <th>client_id</th>\n",
       "      <th>Job Title</th>\n",
       "      <th>Description</th>\n",
       "      <th>Merged_Category</th>\n",
       "      <th>EX_level_demand</th>\n",
       "    </tr>\n",
       "  </thead>\n",
       "  <tbody>\n",
       "    <tr>\n",
       "      <th>0</th>\n",
       "      <td>1</td>\n",
       "      <td>Power bi specialist freelance</td>\n",
       "      <td>Already data pooled and designed. Need to refi...</td>\n",
       "      <td>Data Analysis, Data Visualization, Microsoft P...</td>\n",
       "      <td>Expert</td>\n",
       "    </tr>\n",
       "    <tr>\n",
       "      <th>1</th>\n",
       "      <td>2</td>\n",
       "      <td>Case Study (on-demand delivery startup)</td>\n",
       "      <td>Hi,\\n\\nWould you be able to help me do a case-...</td>\n",
       "      <td>Google Data Studio, SQL, Tableau, Microsoft Ex...</td>\n",
       "      <td>Intermediate</td>\n",
       "    </tr>\n",
       "    <tr>\n",
       "      <th>2</th>\n",
       "      <td>3</td>\n",
       "      <td>File Maker Pro Reports, Charts, Query and Ongo...</td>\n",
       "      <td>NITIAL PROJECT\\n\\nSet up Monthly Report mimick...</td>\n",
       "      <td>Report Writing, Custom Graphics</td>\n",
       "      <td>Intermediate</td>\n",
       "    </tr>\n",
       "    <tr>\n",
       "      <th>3</th>\n",
       "      <td>4</td>\n",
       "      <td>Implementation of EleutherAI/gpt-neox-20b</td>\n",
       "      <td>As a first step, you will implement the instal...</td>\n",
       "      <td>Machine Learning Model, Machine Learning, Python</td>\n",
       "      <td>Expert</td>\n",
       "    </tr>\n",
       "    <tr>\n",
       "      <th>4</th>\n",
       "      <td>5</td>\n",
       "      <td>BI and Data Engineer for Upwork Finance System...</td>\n",
       "      <td>The Upwork Finance Systems team is looking for...</td>\n",
       "      <td>Data Analysis, Looker, SQL, Snowflake, Account...</td>\n",
       "      <td>Expert</td>\n",
       "    </tr>\n",
       "  </tbody>\n",
       "</table>\n",
       "</div>"
      ],
      "text/plain": [
       "   client_id                                          Job Title  \\\n",
       "0          1                      Power bi specialist freelance   \n",
       "1          2            Case Study (on-demand delivery startup)   \n",
       "2          3  File Maker Pro Reports, Charts, Query and Ongo...   \n",
       "3          4          Implementation of EleutherAI/gpt-neox-20b   \n",
       "4          5  BI and Data Engineer for Upwork Finance System...   \n",
       "\n",
       "                                         Description  \\\n",
       "0  Already data pooled and designed. Need to refi...   \n",
       "1  Hi,\\n\\nWould you be able to help me do a case-...   \n",
       "2  NITIAL PROJECT\\n\\nSet up Monthly Report mimick...   \n",
       "3  As a first step, you will implement the instal...   \n",
       "4  The Upwork Finance Systems team is looking for...   \n",
       "\n",
       "                                     Merged_Category EX_level_demand  \n",
       "0  Data Analysis, Data Visualization, Microsoft P...          Expert  \n",
       "1  Google Data Studio, SQL, Tableau, Microsoft Ex...    Intermediate  \n",
       "2                    Report Writing, Custom Graphics    Intermediate  \n",
       "3   Machine Learning Model, Machine Learning, Python          Expert  \n",
       "4  Data Analysis, Looker, SQL, Snowflake, Account...          Expert  "
      ]
     },
     "execution_count": 11,
     "metadata": {},
     "output_type": "execute_result"
    }
   ],
   "source": [
    "df.head()"
   ]
  },
  {
   "cell_type": "code",
   "execution_count": 4,
   "id": "6de065bc-043f-46fb-9143-aba05a15c292",
   "metadata": {},
   "outputs": [],
   "source": [
    "# For \"Job Title\"\n",
    "df['job_title_length'] = df['Job Title'].apply(len)\n",
    "df['job_title_word_count'] = df['Job Title'].apply(lambda x: len(x.split()))\n",
    "\n"
   ]
  },
  {
   "cell_type": "code",
   "execution_count": 5,
   "id": "57efeb30-fe6c-45a5-b244-2c2e565c343a",
   "metadata": {},
   "outputs": [],
   "source": [
    "# For \"Description\"\n",
    "df['description_length'] = df['Description'].apply(len)\n",
    "df['description_word_count'] = df['Description'].apply(lambda x: len(x.split()))\n"
   ]
  },
  {
   "cell_type": "code",
   "execution_count": 8,
   "id": "3afd04b6-b97d-43ca-8dc1-6341ecca8d5d",
   "metadata": {},
   "outputs": [],
   "source": [
    "# Feature: Count the number of categories/skills\n",
    "df['merged_category_count'] = df['Merged_Category'].apply(lambda x: len(str(x).split(',')) if isinstance(x, str) else 0)\n",
    "\n",
    "\n",
    "# Create dummy variables for each category.\n",
    "# The get_dummies method here uses comma as the separator.\n",
    "df_categories = df['Merged_Category'].str.get_dummies(sep=',')\n",
    "# Optionally, remove extra spaces from column names\n",
    "df_categories.columns = [col.strip() for col in df_categories.columns]\n",
    "# Join these new features back to the original DataFrame\n",
    "df = pd.concat([df, df_categories], axis=1)\n"
   ]
  },
  {
   "cell_type": "code",
   "execution_count": 12,
   "id": "06551997-a2ad-48b7-aa3c-af94f7ddab0e",
   "metadata": {},
   "outputs": [
    {
     "name": "stdout",
     "output_type": "stream",
     "text": [
      "client_id            0\n",
      "Job Title            0\n",
      "Description          0\n",
      "Merged_Category    366\n",
      "EX_level_demand      0\n",
      "dtype: int64\n"
     ]
    }
   ],
   "source": [
    "print(df.isnull().sum())"
   ]
  },
  {
   "cell_type": "code",
   "execution_count": null,
   "id": "d48e6dd3-aed0-4654-8fdf-f784fda9c6f7",
   "metadata": {},
   "outputs": [],
   "source": []
  }
 ],
 "metadata": {
  "kernelspec": {
   "display_name": "Python 3 (ipykernel)",
   "language": "python",
   "name": "python3"
  },
  "language_info": {
   "codemirror_mode": {
    "name": "ipython",
    "version": 3
   },
   "file_extension": ".py",
   "mimetype": "text/x-python",
   "name": "python",
   "nbconvert_exporter": "python",
   "pygments_lexer": "ipython3",
   "version": "3.12.1"
  }
 },
 "nbformat": 4,
 "nbformat_minor": 5
}
